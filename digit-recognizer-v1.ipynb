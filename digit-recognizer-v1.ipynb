{
 "cells": [
  {
   "cell_type": "markdown",
   "source": [
    "## Importing Libraries"
   ],
   "metadata": {}
  },
  {
   "cell_type": "code",
   "execution_count": 100,
   "source": [
    "# Basic Libraries\r\n",
    "import pandas as pd\r\n",
    "import numpy as np\r\n",
    "import matplotlib.pyplot as plt\r\n",
    "import matplotlib.image as mpimg\r\n",
    "import seaborn as sns\r\n",
    "%matplotlib inline\r\n",
    "\r\n",
    "np.random.seed(2)"
   ],
   "outputs": [],
   "metadata": {}
  },
  {
   "cell_type": "code",
   "execution_count": 101,
   "source": [
    "# Libraries for Model and CNN\r\n",
    "from sklearn.model_selection import train_test_split\r\n",
    "from sklearn.metrics import confusion_matrix\r\n",
    "import itertools\r\n",
    "\r\n",
    "from tensorflow.keras.models import Sequential\r\n",
    "from tensorflow.keras.layers import Dense, Dropout, Flatten, Conv2D, MaxPool2D\r\n",
    "from tensorflow.keras.optimizers import RMSprop\r\n",
    "from tensorflow.keras.preprocessing.image import ImageDataGenerator\r\n",
    "from tensorflow.keras.callbacks import ReduceLROnPlateau\r\n",
    "from tensorflow.keras.utils import to_categorical"
   ],
   "outputs": [],
   "metadata": {}
  },
  {
   "cell_type": "code",
   "execution_count": 102,
   "source": [
    "# Setting Default Seaborn Style\r\n",
    "sns.set(style='white', context='notebook', palette='deep')"
   ],
   "outputs": [],
   "metadata": {}
  },
  {
   "cell_type": "markdown",
   "source": [
    "# Data Preprocessing"
   ],
   "metadata": {}
  },
  {
   "cell_type": "markdown",
   "source": [
    "## Importing the Data"
   ],
   "metadata": {}
  },
  {
   "cell_type": "code",
   "execution_count": 103,
   "source": [
    "train = pd.read_csv(\"train.csv\")\r\n",
    "test = pd.read_csv(\"test.csv\")"
   ],
   "outputs": [],
   "metadata": {}
  },
  {
   "cell_type": "code",
   "execution_count": 104,
   "source": [
    "train.shape, test.shape"
   ],
   "outputs": [
    {
     "output_type": "execute_result",
     "data": {
      "text/plain": [
       "((42000, 785), (28000, 784))"
      ]
     },
     "metadata": {},
     "execution_count": 104
    }
   ],
   "metadata": {}
  },
  {
   "cell_type": "code",
   "execution_count": 105,
   "source": [
    "# Checking for Null Valuese in Dataset\r\n",
    "print(\"Null Values in Train set : \", train.isnull().any().sum())\r\n",
    "print(\"Null Values in Test set : \", test.isnull().any().sum())"
   ],
   "outputs": [
    {
     "output_type": "stream",
     "name": "stdout",
     "text": [
      "Null Values in Train set :  0\n",
      "Null Values in Test set :  0\n"
     ]
    }
   ],
   "metadata": {}
  },
  {
   "cell_type": "code",
   "execution_count": 106,
   "source": [
    "# Seperating Dependent Variable from Other Features\r\n",
    "y = train.label\r\n",
    "X = train.drop(columns=[\"label\"], axis=1)"
   ],
   "outputs": [],
   "metadata": {}
  },
  {
   "cell_type": "code",
   "execution_count": 107,
   "source": [
    "y.value_counts()"
   ],
   "outputs": [
    {
     "output_type": "execute_result",
     "data": {
      "text/plain": [
       "1    4684\n",
       "7    4401\n",
       "3    4351\n",
       "9    4188\n",
       "2    4177\n",
       "6    4137\n",
       "0    4132\n",
       "4    4072\n",
       "8    4063\n",
       "5    3795\n",
       "Name: label, dtype: int64"
      ]
     },
     "metadata": {},
     "execution_count": 107
    }
   ],
   "metadata": {}
  },
  {
   "cell_type": "code",
   "execution_count": 108,
   "source": [
    "sns.countplot(y)\r\n",
    "plt.show()"
   ],
   "outputs": [
    {
     "output_type": "stream",
     "name": "stderr",
     "text": [
      "E:\\Python\\Python39\\lib\\site-packages\\seaborn\\_decorators.py:36: FutureWarning: Pass the following variable as a keyword arg: x. From version 0.12, the only valid positional argument will be `data`, and passing other arguments without an explicit keyword will result in an error or misinterpretation.\n",
      "  warnings.warn(\n"
     ]
    },
    {
     "output_type": "display_data",
     "data": {
      "image/png": "[encoded data removed]",
      "text/plain": [
       "<Figure size 432x288 with 1 Axes>"
      ]
     },
     "metadata": {}
    }
   ],
   "metadata": {}
  },
  {
   "cell_type": "markdown",
   "source": [
    "## Feature Scaling"
   ],
   "metadata": {}
  },
  {
   "cell_type": "code",
   "execution_count": 109,
   "source": [
    "# Normalizing the images\r\n",
    "X = X / 255.0\r\n",
    "test = test / 255.0"
   ],
   "outputs": [],
   "metadata": {}
  },
  {
   "cell_type": "markdown",
   "source": [
    "## Resizing/Reshaping the images"
   ],
   "metadata": {}
  },
  {
   "cell_type": "code",
   "execution_count": 110,
   "source": [
    "# height = 28px, width = 28px\r\n",
    "X = X.values.reshape(-1,28,28,1)\r\n",
    "test = test.values.reshape(-1,28,28,1)"
   ],
   "outputs": [],
   "metadata": {}
  },
  {
   "cell_type": "markdown",
   "source": [
    "## Label encoding"
   ],
   "metadata": {}
  },
  {
   "cell_type": "code",
   "execution_count": 111,
   "source": [
    "y = to_categorical(y, num_classes = 10)"
   ],
   "outputs": [],
   "metadata": {}
  },
  {
   "cell_type": "markdown",
   "source": [
    "## Splitting training and vaidation set"
   ],
   "metadata": {}
  },
  {
   "cell_type": "code",
   "execution_count": 112,
   "source": [
    "random_seed = 2\r\n",
    "X_train, X_test, y_train, y_test = train_test_split(X, y, test_size = 0.1, random_state=random_seed)"
   ],
   "outputs": [],
   "metadata": {}
  },
  {
   "cell_type": "markdown",
   "source": [
    "## Viewing Some Sample of images in Dataset"
   ],
   "metadata": {}
  },
  {
   "cell_type": "code",
   "execution_count": 113,
   "source": [
    "fig, axs = plt.subplots(2, 2)\r\n",
    "axs[0, 0].imshow(X_train[0])\r\n",
    "axs[0, 1].imshow(X_train[10])\r\n",
    "axs[1, 0].imshow(X_train[20])\r\n",
    "axs[1, 1].imshow(X_train[30])"
   ],
   "outputs": [
    {
     "output_type": "execute_result",
     "data": {
      "text/plain": [
       "<matplotlib.image.AxesImage at 0x25797e98d30>"
      ]
     },
     "metadata": {},
     "execution_count": 113
    },
    {
     "output_type": "display_data",
     "data": {
      "image/png": "[encoded data removed]",
      "text/plain": [
       "<Figure size 432x288 with 4 Axes>"
      ]
     },
     "metadata": {}
    }
   ],
   "metadata": {}
  },
  {
   "cell_type": "markdown",
   "source": [
    "# CNN"
   ],
   "metadata": {}
  },
  {
   "cell_type": "markdown",
   "source": [
    "## Building the model"
   ],
   "metadata": {}
  },
  {
   "cell_type": "code",
   "execution_count": 114,
   "source": [
    "model = Sequential()\r\n",
    "\r\n",
    "model.add(Conv2D(filters = 32, kernel_size = (5,5), padding = 'Same', activation ='relu', input_shape = (28,28,1)))\r\n",
    "model.add(Conv2D(filters = 32, kernel_size = (5,5), padding = 'Same', activation ='relu'))\r\n",
    "model.add(MaxPool2D(pool_size=(2,2)))\r\n",
    "model.add(Dropout(0.25)) # Setting input to 0.25 # Prevents over fitting\r\n",
    "\r\n",
    "\r\n",
    "model.add(Conv2D(filters = 64, kernel_size = (3,3), padding = 'Same', activation ='relu'))\r\n",
    "model.add(Conv2D(filters = 64, kernel_size = (3,3), padding = 'Same', activation ='relu'))\r\n",
    "model.add(MaxPool2D(pool_size=(2,2), strides=(2,2)))\r\n",
    "model.add(Dropout(0.25))\r\n",
    "\r\n",
    "\r\n",
    "model.add(Flatten())\r\n",
    "model.add(Dense(256, activation = \"relu\"))\r\n",
    "model.add(Dropout(0.5))\r\n",
    "model.add(Dense(10, activation = \"softmax\"))"
   ],
   "outputs": [],
   "metadata": {}
  },
  {
   "cell_type": "markdown",
   "source": [
    "## Building Optimizer to optimize the CNN"
   ],
   "metadata": {}
  },
  {
   "cell_type": "code",
   "execution_count": 115,
   "source": [
    "optimizer = RMSprop(learning_rate=0.001, rho=0.9, epsilon=1e-08, decay=0.0)"
   ],
   "outputs": [],
   "metadata": {}
  },
  {
   "cell_type": "code",
   "execution_count": 116,
   "source": [
    "# Compiling the Model\r\n",
    "model.compile(optimizer = optimizer , loss = \"categorical_crossentropy\", metrics=[\"accuracy\"])"
   ],
   "outputs": [],
   "metadata": {}
  },
  {
   "cell_type": "markdown",
   "source": [
    "## Data Augmentation to prevent Overfitting"
   ],
   "metadata": {}
  },
  {
   "cell_type": "code",
   "execution_count": 117,
   "source": [
    "datagen = ImageDataGenerator(\r\n",
    "        featurewise_center=False,  \r\n",
    "        samplewise_center=False,\r\n",
    "        featurewise_std_normalization=False,\r\n",
    "        samplewise_std_normalization=False, \r\n",
    "        zca_whitening=False,  \r\n",
    "        rotation_range=10,\r\n",
    "        zoom_range = 0.1,\r\n",
    "        width_shift_range=0.1,\r\n",
    "        height_shift_range=0.1,\r\n",
    "        horizontal_flip=False,\r\n",
    "        vertical_flip=False)\r\n",
    "\r\n",
    "datagen.fit(X_train)"
   ],
   "outputs": [],
   "metadata": {}
  },
  {
   "cell_type": "code",
   "execution_count": 118,
   "source": [
    "# Training and Validating the Model\r\n",
    "cnn = model.fit(\r\n",
    "    datagen.flow(X_train, y_train, batch_size=86),\r\n",
    "    epochs = 10,\r\n",
    "    validation_data = (X_test, y_test),\r\n",
    "    verbose = 2,\r\n",
    "    steps_per_epoch=X_train.shape[0] // 86,\r\n",
    ")"
   ],
   "outputs": [
    {
     "output_type": "stream",
     "name": "stdout",
     "text": [
      "Epoch 1/10\n",
      "439/439 - 11s - loss: 0.4061 - accuracy: 0.8695 - val_loss: 0.0815 - val_accuracy: 0.9733\n",
      "Epoch 2/10\n",
      "439/439 - 10s - loss: 0.1279 - accuracy: 0.9617 - val_loss: 0.0454 - val_accuracy: 0.9852\n",
      "Epoch 3/10\n",
      "439/439 - 10s - loss: 0.0940 - accuracy: 0.9722 - val_loss: 0.0316 - val_accuracy: 0.9895\n",
      "Epoch 4/10\n",
      "439/439 - 9s - loss: 0.0805 - accuracy: 0.9766 - val_loss: 0.0361 - val_accuracy: 0.9902\n",
      "Epoch 5/10\n",
      "439/439 - 9s - loss: 0.0743 - accuracy: 0.9783 - val_loss: 0.0307 - val_accuracy: 0.9907\n",
      "Epoch 6/10\n",
      "439/439 - 10s - loss: 0.0676 - accuracy: 0.9803 - val_loss: 0.0201 - val_accuracy: 0.9931\n",
      "Epoch 7/10\n",
      "439/439 - 10s - loss: 0.0624 - accuracy: 0.9818 - val_loss: 0.0223 - val_accuracy: 0.9926\n",
      "Epoch 8/10\n",
      "439/439 - 9s - loss: 0.0641 - accuracy: 0.9825 - val_loss: 0.0417 - val_accuracy: 0.9869\n",
      "Epoch 9/10\n",
      "439/439 - 9s - loss: 0.0616 - accuracy: 0.9826 - val_loss: 0.0376 - val_accuracy: 0.9893\n",
      "Epoch 10/10\n",
      "439/439 - 10s - loss: 0.0596 - accuracy: 0.9838 - val_loss: 0.0234 - val_accuracy: 0.9943\n"
     ]
    }
   ],
   "metadata": {}
  },
  {
   "cell_type": "markdown",
   "source": [
    "## Comparing Training and Testing curves for Loss and Accuracy"
   ],
   "metadata": {}
  },
  {
   "cell_type": "code",
   "execution_count": 119,
   "source": [
    "fig, ax = plt.subplots(2,1)\r\n",
    "\r\n",
    "ax[0].plot(cnn.history['loss'], color='b', label=\"Training Loss\")\r\n",
    "ax[0].plot(cnn.history['val_loss'], color='r', label=\"Testing Loss\",axes =ax[0])\r\n",
    "legend = ax[0].legend(loc='best', shadow=True)\r\n",
    "\r\n",
    "ax[1].plot(cnn.history['accuracy'], color='b', label=\"Training Accuracy\")\r\n",
    "ax[1].plot(cnn.history['val_accuracy'], color='r',label=\"Testing Accuracy\")\r\n",
    "legend = ax[1].legend(loc='best', shadow=True)"
   ],
   "outputs": [
    {
     "output_type": "display_data",
     "data": {
      "image/png": "[encoded data removed]",
      "text/plain": [
       "<Figure size 432x288 with 2 Axes>"
      ]
     },
     "metadata": {}
    }
   ],
   "metadata": {}
  },
  {
   "cell_type": "code",
   "execution_count": 120,
   "source": [
    "y_pred = model.predict(X_test)\r\n",
    "y_pred = np.argmax(y_pred, axis = 1)\r\n",
    "\r\n",
    "y_test = np.argmax(y_test,axis = 1)"
   ],
   "outputs": [],
   "metadata": {}
  },
  {
   "cell_type": "code",
   "execution_count": 122,
   "source": [
    "# Confusion Matrix\r\n",
    "cm = confusion_matrix(y_test, y_pred)\r\n",
    "cm"
   ],
   "outputs": [
    {
     "output_type": "execute_result",
     "data": {
      "text/plain": [
       "array([[410,   0,   0,   0,   0,   0,   1,   0,   0,   0],\n",
       "       [  0, 483,   0,   0,   0,   0,   0,   1,   1,   0],\n",
       "       [  0,   0, 402,   0,   0,   0,   0,   0,   1,   0],\n",
       "       [  0,   0,   0, 416,   0,   0,   0,   0,   2,   0],\n",
       "       [  0,   0,   1,   0, 454,   0,   1,   0,   0,   5],\n",
       "       [  0,   0,   0,   1,   0, 367,   2,   0,   1,   1],\n",
       "       [  0,   0,   0,   0,   0,   0, 412,   0,   1,   0],\n",
       "       [  0,   0,   0,   0,   0,   0,   0, 446,   0,   0],\n",
       "       [  0,   0,   0,   0,   1,   0,   0,   0, 381,   0],\n",
       "       [  1,   0,   0,   0,   1,   0,   0,   2,   0, 405]], dtype=int64)"
      ]
     },
     "metadata": {},
     "execution_count": 122
    }
   ],
   "metadata": {}
  },
  {
   "cell_type": "code",
   "execution_count": 135,
   "source": [
    "sns.heatmap(cm, annot=True, fmt='2.0f', cmap=\"YlGnBu\")\r\n",
    "plt.xlabel(\"Predicted Value\")\r\n",
    "plt.ylabel(\"Original Value\")\r\n",
    "plt.show()"
   ],
   "outputs": [
    {
     "output_type": "display_data",
     "data": {
      "image/png": "[encoded data removed]",
      "text/plain": [
       "<Figure size 432x288 with 2 Axes>"
      ]
     },
     "metadata": {}
    }
   ],
   "metadata": {}
  },
  {
   "cell_type": "code",
   "execution_count": 139,
   "source": [
    "# Predictions for Test Dataset\r\n",
    "y_pred_test = model.predict(test)\r\n",
    "y_pred_test = np.argmax(y_pred_test,axis = 1)\r\n",
    "y_pred_test"
   ],
   "outputs": [
    {
     "output_type": "execute_result",
     "data": {
      "text/plain": [
       "array([2, 0, 9, ..., 3, 9, 2], dtype=int64)"
      ]
     },
     "metadata": {},
     "execution_count": 139
    }
   ],
   "metadata": {}
  },
  {
   "cell_type": "code",
   "execution_count": 143,
   "source": [
    "submission_df = pd.DataFrame()\r\n",
    "submission_df[\"ImageId\"] = np.arange(1, 28001, 1)\r\n",
    "submission_df[\"Label\"] = y_pred_test\r\n",
    "\r\n",
    "submission_df.head()"
   ],
   "outputs": [
    {
     "output_type": "execute_result",
     "data": {
      "text/html": [
       "<div>\n",
       "<style scoped>\n",
       "    .dataframe tbody tr th:only-of-type {\n",
       "        vertical-align: middle;\n",
       "    }\n",
       "\n",
       "    .dataframe tbody tr th {\n",
       "        vertical-align: top;\n",
       "    }\n",
       "\n",
       "    .dataframe thead th {\n",
       "        text-align: right;\n",
       "    }\n",
       "</style>\n",
       "<table border=\"1\" class=\"dataframe\">\n",
       "  <thead>\n",
       "    <tr style=\"text-align: right;\">\n",
       "      <th></th>\n",
       "      <th>ImageId</th>\n",
       "      <th>Label</th>\n",
       "    </tr>\n",
       "  </thead>\n",
       "  <tbody>\n",
       "    <tr>\n",
       "      <th>0</th>\n",
       "      <td>1</td>\n",
       "      <td>2</td>\n",
       "    </tr>\n",
       "    <tr>\n",
       "      <th>1</th>\n",
       "      <td>2</td>\n",
       "      <td>0</td>\n",
       "    </tr>\n",
       "    <tr>\n",
       "      <th>2</th>\n",
       "      <td>3</td>\n",
       "      <td>9</td>\n",
       "    </tr>\n",
       "    <tr>\n",
       "      <th>3</th>\n",
       "      <td>4</td>\n",
       "      <td>0</td>\n",
       "    </tr>\n",
       "    <tr>\n",
       "      <th>4</th>\n",
       "      <td>5</td>\n",
       "      <td>3</td>\n",
       "    </tr>\n",
       "  </tbody>\n",
       "</table>\n",
       "</div>"
      ],
      "text/plain": [
       "   ImageId  Label\n",
       "0        1      2\n",
       "1        2      0\n",
       "2        3      9\n",
       "3        4      0\n",
       "4        5      3"
      ]
     },
     "metadata": {},
     "execution_count": 143
    }
   ],
   "metadata": {}
  },
  {
   "cell_type": "code",
   "execution_count": 144,
   "source": [
    "submission_df.to_csv(\"submission.csv\",index=False)"
   ],
   "outputs": [],
   "metadata": {}
  }
 ],
 "metadata": {
  "orig_nbformat": 4,
  "language_info": {
   "name": "python",
   "version": "3.9.7",
   "mimetype": "text/x-python",
   "codemirror_mode": {
    "name": "ipython",
    "version": 3
   },
   "pygments_lexer": "ipython3",
   "nbconvert_exporter": "python",
   "file_extension": ".py"
  },
  "kernelspec": {
   "name": "python3",
   "display_name": "Python 3.9.7 64-bit"
  },
  "interpreter": {
   "hash": "5f32b46b154a184afd9e753b821bd49119defb768fad04c1245ac055f31252d7"
  }
 },
 "nbformat": 4,
 "nbformat_minor": 2
}